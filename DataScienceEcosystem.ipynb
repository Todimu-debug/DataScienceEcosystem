{
 "cells": [
  {
   "cell_type": "markdown",
   "id": "32129c4b",
   "metadata": {},
   "source": [
    "# Data Science Tools and Ecosystem"
   ]
  },
  {
   "cell_type": "markdown",
   "id": "d4643b06",
   "metadata": {},
   "source": [
    "In this notebook, Data Science Tools and Ecosystem are summarized."
   ]
  },
  {
   "cell_type": "markdown",
   "id": "0d377bd6",
   "metadata": {},
   "source": [
    "**Objectives:**\n",
    "* List popular languages for Data Science\n",
    "* Commonly used libraries by data scientist\n",
    "* List popular tools for Data Science"
   ]
  },
  {
   "cell_type": "markdown",
   "id": "e5bdf7de",
   "metadata": {},
   "source": [
    "Some of the popular languages that Data Scientists use are:\n",
    "1. Python\n",
    "2. R\n",
    "3. Java\n",
    "4. C++"
   ]
  },
  {
   "cell_type": "markdown",
   "id": "a7da10fc",
   "metadata": {},
   "source": [
    "Some of the commonly used libraries used by Data Scientists include:\n",
    " 1. Numpy\n",
    " 2. Pandas\n",
    " 3. Matplotlib\n",
    " 4. Seaborn"
   ]
  },
  {
   "cell_type": "markdown",
   "id": "e0f031f4",
   "metadata": {},
   "source": [
    "| Data Science Tools               |\n",
    "|----------------------------------|\n",
    "| Jupyter Notebooks                |\n",
    "| RStudio                          |\n",
    "| Apache Zeppelin                  |\n"
   ]
  },
  {
   "cell_type": "markdown",
   "id": "c7dcd125",
   "metadata": {},
   "source": [
    "### Below are a few examples of evaluating arithmetic expressions in Python"
   ]
  },
  {
   "cell_type": "code",
   "execution_count": 5,
   "id": "b580afcd",
   "metadata": {},
   "outputs": [
    {
     "data": {
      "text/plain": [
       "17"
      ]
     },
     "execution_count": 5,
     "metadata": {},
     "output_type": "execute_result"
    }
   ],
   "source": [
    "# This a simple arithmetic expression to mutiply then add integers\n",
    "\n",
    "(3*4) + 5"
   ]
  },
  {
   "cell_type": "code",
   "execution_count": 9,
   "id": "c1d35648",
   "metadata": {},
   "outputs": [
    {
     "name": "stdout",
     "output_type": "stream",
     "text": [
      "The conversion is equals to 3.3333333333333335 hours\n"
     ]
    }
   ],
   "source": [
    "# This will convert 200 minutes to hours by diving by 60\n",
    "\n",
    "minutes = 200\n",
    "hours = minutes/60\n",
    "print(f\"The conversion is equals to {hours} hours\"  )\n"
   ]
  },
  {
   "cell_type": "markdown",
   "id": "5bf13f1f",
   "metadata": {},
   "source": [
    "## Author\n",
    "Babasola Ojo"
   ]
  }
 ],
 "metadata": {
  "kernelspec": {
   "display_name": "Python 3 (ipykernel)",
   "language": "python",
   "name": "python3"
  },
  "language_info": {
   "codemirror_mode": {
    "name": "ipython",
    "version": 3
   },
   "file_extension": ".py",
   "mimetype": "text/x-python",
   "name": "python",
   "nbconvert_exporter": "python",
   "pygments_lexer": "ipython3",
   "version": "3.9.12"
  }
 },
 "nbformat": 4,
 "nbformat_minor": 5
}
